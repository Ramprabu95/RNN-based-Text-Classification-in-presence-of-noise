{
  "nbformat": 4,
  "nbformat_minor": 0,
  "metadata": {
    "colab": {
      "name": "rcnn-text-classification.ipynb",
      "provenance": [],
      "authorship_tag": "ABX9TyMRkMZmnV/sdvvfkrVZq0bo",
      "include_colab_link": true
    },
    "kernelspec": {
      "name": "python3",
      "display_name": "Python 3"
    },
    "language_info": {
      "name": "python"
    }
  },
  "cells": [
    {
      "cell_type": "markdown",
      "metadata": {
        "id": "view-in-github",
        "colab_type": "text"
      },
      "source": [
        "<a href=\"https://colab.research.google.com/github/Ramprabu95/RNN-based-Text-Classification-in-presence-of-noise/blob/main/rcnn_text_classification.ipynb\" target=\"_parent\"><img src=\"https://colab.research.google.com/assets/colab-badge.svg\" alt=\"Open In Colab\"/></a>"
      ]
    },
    {
      "cell_type": "code",
      "execution_count": null,
      "metadata": {
        "id": "5ECmMfRpDQJ0"
      },
      "outputs": [],
      "source": [
        "import torch\n",
        "import torch.nn as nn\n",
        "import torch.nn.functional as F\n",
        "\n",
        "\n",
        "class RCNN(nn.Module):\n",
        "    \"\"\"\n",
        "    Recurrent Convolutional Neural Networks for Text Classification (2015)\n",
        "    \"\"\"\n",
        "    def __init__(self, vocab_size, embedding_dim, hidden_size, hidden_size_linear, class_num, dropout):\n",
        "        super(RCNN, self).__init__()\n",
        "        self.embedding = nn.Embedding(vocab_size, embedding_dim, padding_idx=0)\n",
        "        self.lstm = nn.LSTM(embedding_dim, hidden_size, batch_first=True, bidirectional=True, dropout=dropout)\n",
        "        self.W = nn.Linear(embedding_dim + 2*hidden_size, hidden_size_linear)\n",
        "        self.tanh = nn.Tanh()\n",
        "        self.fc = nn.Linear(hidden_size_linear, class_num)\n",
        "\n",
        "    def forward(self, x):\n",
        "        # x = |bs, seq_len|\n",
        "        x_emb = self.embedding(x)\n",
        "        # x_emb = |bs, seq_len, embedding_dim|\n",
        "        output, _ = self.lstm(x_emb)\n",
        "        # output = |bs, seq_len, 2*hidden_size|\n",
        "        output = torch.cat([output, x_emb], 2)\n",
        "        # output = |bs, seq_len, embedding_dim + 2*hidden_size|\n",
        "        output = self.tanh(self.W(output)).transpose(1, 2)\n",
        "        # output = |bs, seq_len, hidden_size_linear| -> |bs, hidden_size_linear, seq_len|\n",
        "        output = F.max_pool1d(output, output.size(2)).squeeze(2)\n",
        "        # output = |bs, hidden_size_linear|\n",
        "        output = self.fc(output)\n",
        "        # output = |bs, class_num|\n",
        "        return output"
      ]
    },
    {
      "cell_type": "code",
      "source": [
        "\n",
        "import torch\n",
        "from torch.utils.data import Dataset\n",
        "\n",
        "\n",
        "class CustomTextDataset(Dataset):\n",
        "    def __init__(self, texts, labels, dictionary):\n",
        "        # Unknown Token is index 1 (<UNK>)\n",
        "        self.x = [[dictionary.get(token, 1) for token in token_list] for token_list in texts]\n",
        "        self.y = labels\n",
        "\n",
        "    def __len__(self):\n",
        "        \"\"\"Return the data length\"\"\"\n",
        "        return len(self.x)\n",
        "\n",
        "    def __getitem__(self, idx):\n",
        "        \"\"\"Return one item on the index\"\"\"\n",
        "        return self.x[idx], self.y[idx]\n",
        "\n",
        "\n",
        "def collate_fn(data, args, pad_idx=0):\n",
        "    \"\"\"Padding\"\"\"\n",
        "    texts, labels = zip(*data)\n",
        "    texts = [s + [pad_idx] * (args.max_len - len(s)) if len(s) < args.max_len else s[:args.max_len] for s in texts]\n",
        "    return torch.LongTensor(texts), torch.LongTensor(labels)"
      ],
      "metadata": {
        "id": "i0L4UQyAGSCq"
      },
      "execution_count": null,
      "outputs": []
    },
    {
      "cell_type": "code",
      "source": [
        "import pandas as pd\n",
        "import re\n",
        "import nltk\n",
        "from nltk.tokenize import word_tokenize\n",
        "from sklearn.metrics import precision_score, recall_score, f1_score, confusion_matrix\n",
        "nltk.download('punkt')\n",
        "\n",
        "\n",
        "def read_file(file_path):\n",
        "    \"\"\"\n",
        "    Read function for AG NEWS Dataset\n",
        "    \"\"\"\n",
        "    data = pd.read_csv(file_path, names=[\"class\", \"title\", \"description\"])\n",
        "    texts = list(data['title'].values + ' ' + data['description'].values)\n",
        "    texts = [word_tokenize(preprocess_text(sentence)) for sentence in texts]\n",
        "    labels = [label-1 for label in list(data['class'].values)]  # label : 1~4  -> label : 0~3\n",
        "    return texts, labels\n",
        "\n",
        "\n",
        "def preprocess_text(string):\n",
        "    \"\"\"\n",
        "    reference : https://github.com/yoonkim/CNN_sentence/blob/master/process_data.py\n",
        "    \"\"\"\n",
        "    string = string.lower()\n",
        "    string = re.sub(r\"[^A-Za-z0-9(),!?\\'\\`]\", \" \", string)\n",
        "    string = re.sub(r\"\\'s\", \" \\'s\", string)\n",
        "    string = re.sub(r\"\\'ve\", \" \\'ve\", string)\n",
        "    string = re.sub(r\"n\\'t\", \" n\\'t\", string)\n",
        "    string = re.sub(r\"\\'re\", \" \\'re\", string)\n",
        "    string = re.sub(r\"\\'d\", \" \\'d\", string)\n",
        "    string = re.sub(r\"\\'ll\", \" \\'ll\", string)\n",
        "    string = re.sub(r\",\", \" , \", string)\n",
        "    string = re.sub(r\"!\", \" ! \", string)\n",
        "    string = re.sub(r\"\\(\", \" \\( \", string)\n",
        "    string = re.sub(r\"\\)\", \" \\) \", string)\n",
        "    string = re.sub(r\"\\?\", \" \\? \", string)\n",
        "    string = re.sub(r\"\\s{2,}\", \" \", string)\n",
        "    return string.strip()\n",
        "\n",
        "\n",
        "def metrics(dataloader, losses, correct, y_hats, targets):\n",
        "    avg_loss = losses / len(dataloader)\n",
        "    accuracy = correct / len(dataloader.dataset) * 100\n",
        "    precision = precision_score(targets, y_hats, average='macro')\n",
        "    recall = recall_score(targets, y_hats, average='macro')\n",
        "    f1 = f1_score(targets, y_hats, average='macro')\n",
        "    cm = confusion_matrix(targets, y_hats)\n",
        "    return avg_loss, accuracy, precision, recall, f1, cm"
      ],
      "metadata": {
        "colab": {
          "base_uri": "https://localhost:8080/"
        },
        "id": "ye7NXUTeGa8g",
        "outputId": "fe1c2a22-02c9-4699-bffe-b0311ff6233c"
      },
      "execution_count": null,
      "outputs": [
        {
          "output_type": "stream",
          "name": "stdout",
          "text": [
            "[nltk_data] Downloading package punkt to /root/nltk_data...\n",
            "[nltk_data]   Package punkt is already up-to-date!\n"
          ]
        }
      ]
    },
    {
      "cell_type": "code",
      "source": [
        "\n",
        "import os\n",
        "import logging\n",
        "import torch\n",
        "import torch.nn.functional as F\n",
        "\n",
        "from utils import metrics\n",
        "\n",
        "logging.basicConfig(format='%(asctime)s -  %(message)s', datefmt='%m/%d/%Y %H:%M:%S', level=logging.INFO)\n",
        "logger = logging.getLogger(__name__)\n",
        "\n",
        "\n",
        "def train(model, optimizer, train_dataloader, valid_dataloader, args):\n",
        "    best_f1 = 0\n",
        "    logger.info('Start Training!')\n",
        "    for epoch in range(1, args.epochs+1):\n",
        "        model.train()\n",
        "        for step, (x, y) in enumerate(train_dataloader):\n",
        "            x, y = x.to(args.device), y.to(args.device)\n",
        "            pred = model(x)\n",
        "            loss = F.cross_entropy(pred, y)\n",
        "\n",
        "            optimizer.zero_grad()\n",
        "            loss.backward()\n",
        "            optimizer.step()\n",
        "\n",
        "            if (step+1) % 200 == 0:\n",
        "                logger.info(f'|EPOCHS| {epoch:>}/{args.epochs} |STEP| {step+1:>4}/{len(train_dataloader)} |LOSS| {loss.item():>.4f}')\n",
        "\n",
        "        avg_loss, accuracy, _, _, f1, _ = evaluate(model, valid_dataloader, args)\n",
        "        logger.info('-'*50)\n",
        "        logger.info(f'|* VALID SET *| |VAL LOSS| {avg_loss:>.4f} |ACC| {accuracy:>.4f} |F1| {f1:>.4f}')\n",
        "        logger.info('-'*50)\n",
        "\n",
        "        if f1 > best_f1:\n",
        "            best_f1 = f1\n",
        "            logger.info(f'Saving best model... F1 score is {best_f1:>.4f}')\n",
        "            if not os.path.isdir(args.model_save_path):\n",
        "                os.mkdir(args.model_save_path)\n",
        "            torch.save(model.state_dict(), os.path.join(args.model_save_path, \"best.pt\"))\n",
        "            logger.info('Model saved!')\n",
        "\n",
        "\n",
        "def evaluate(model, valid_dataloader, args):\n",
        "    with torch.no_grad():\n",
        "        model.eval()\n",
        "        losses, correct = 0, 0\n",
        "        y_hats, targets = [], []\n",
        "        for x, y in valid_dataloader:\n",
        "            x, y = x.to(args.device), y.to(args.device)\n",
        "            pred = model(x)\n",
        "            loss = F.cross_entropy(pred, y)\n",
        "            losses += loss.item()\n",
        "\n",
        "            y_hat = torch.max(pred, 1)[1]\n",
        "            y_hats += y_hat.tolist()\n",
        "            targets += y.tolist()\n",
        "            correct += (y_hat == y).sum().item()\n",
        "\n",
        "    avg_loss, accuracy, precision, recall, f1, cm = metrics(valid_dataloader, losses, correct, y_hats, targets)\n",
        "    return avg_loss, accuracy, precision, recall, f1, cm\n",
        "\n"
      ],
      "metadata": {
        "colab": {
          "base_uri": "https://localhost:8080/",
          "height": 408
        },
        "id": "y3AphBjjGxeQ",
        "outputId": "31c3217a-4fe0-426a-e679-c5ed39133641"
      },
      "execution_count": null,
      "outputs": [
        {
          "output_type": "error",
          "ename": "ImportError",
          "evalue": "ignored",
          "traceback": [
            "\u001b[0;31m---------------------------------------------------------------------------\u001b[0m",
            "\u001b[0;31mImportError\u001b[0m                               Traceback (most recent call last)",
            "\u001b[0;32m<ipython-input-1-fe0200372f6b>\u001b[0m in \u001b[0;36m<module>\u001b[0;34m()\u001b[0m\n\u001b[1;32m      5\u001b[0m \u001b[0;32mimport\u001b[0m \u001b[0mtorch\u001b[0m\u001b[0;34m.\u001b[0m\u001b[0mnn\u001b[0m\u001b[0;34m.\u001b[0m\u001b[0mfunctional\u001b[0m \u001b[0;32mas\u001b[0m \u001b[0mF\u001b[0m\u001b[0;34m\u001b[0m\u001b[0;34m\u001b[0m\u001b[0m\n\u001b[1;32m      6\u001b[0m \u001b[0;34m\u001b[0m\u001b[0m\n\u001b[0;32m----> 7\u001b[0;31m \u001b[0;32mfrom\u001b[0m \u001b[0mutils\u001b[0m \u001b[0;32mimport\u001b[0m \u001b[0mmetrics\u001b[0m\u001b[0;34m\u001b[0m\u001b[0;34m\u001b[0m\u001b[0m\n\u001b[0m\u001b[1;32m      8\u001b[0m \u001b[0;34m\u001b[0m\u001b[0m\n\u001b[1;32m      9\u001b[0m \u001b[0mlogging\u001b[0m\u001b[0;34m.\u001b[0m\u001b[0mbasicConfig\u001b[0m\u001b[0;34m(\u001b[0m\u001b[0mformat\u001b[0m\u001b[0;34m=\u001b[0m\u001b[0;34m'%(asctime)s -  %(message)s'\u001b[0m\u001b[0;34m,\u001b[0m \u001b[0mdatefmt\u001b[0m\u001b[0;34m=\u001b[0m\u001b[0;34m'%m/%d/%Y %H:%M:%S'\u001b[0m\u001b[0;34m,\u001b[0m \u001b[0mlevel\u001b[0m\u001b[0;34m=\u001b[0m\u001b[0mlogging\u001b[0m\u001b[0;34m.\u001b[0m\u001b[0mINFO\u001b[0m\u001b[0;34m)\u001b[0m\u001b[0;34m\u001b[0m\u001b[0;34m\u001b[0m\u001b[0m\n",
            "\u001b[0;31mImportError\u001b[0m: cannot import name 'metrics' from 'utils' (/usr/local/lib/python3.7/dist-packages/utils/__init__.py)",
            "",
            "\u001b[0;31m---------------------------------------------------------------------------\u001b[0;32m\nNOTE: If your import is failing due to a missing package, you can\nmanually install dependencies using either !pip or !apt.\n\nTo view examples of installing some common dependencies, click the\n\"Open Examples\" button below.\n\u001b[0;31m---------------------------------------------------------------------------\u001b[0m\n"
          ],
          "errorDetails": {
            "actions": [
              {
                "action": "open_url",
                "actionText": "Open Examples",
                "url": "/notebooks/snippets/importing_libraries.ipynb"
              }
            ]
          }
        }
      ]
    }
  ]
}